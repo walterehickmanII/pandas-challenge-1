{
 "cells": [
  {
   "cell_type": "markdown",
   "id": "dc0318d6",
   "metadata": {},
   "source": [
    "## Part 1: Explore the Data\n",
    "\n",
    "Import the data and use Pandas to learn more about the dataset."
   ]
  },
  {
   "cell_type": "code",
   "execution_count": 49,
   "id": "e076f57f",
   "metadata": {},
   "outputs": [
    {
     "data": {
      "text/html": [
       "<div>\n",
       "<style scoped>\n",
       "    .dataframe tbody tr th:only-of-type {\n",
       "        vertical-align: middle;\n",
       "    }\n",
       "\n",
       "    .dataframe tbody tr th {\n",
       "        vertical-align: top;\n",
       "    }\n",
       "\n",
       "    .dataframe thead th {\n",
       "        text-align: right;\n",
       "    }\n",
       "</style>\n",
       "<table border=\"1\" class=\"dataframe\">\n",
       "  <thead>\n",
       "    <tr style=\"text-align: right;\">\n",
       "      <th></th>\n",
       "      <th>first</th>\n",
       "      <th>last</th>\n",
       "      <th>job</th>\n",
       "      <th>phone</th>\n",
       "      <th>email</th>\n",
       "      <th>client_id</th>\n",
       "      <th>order_id</th>\n",
       "      <th>order_date</th>\n",
       "      <th>order_week</th>\n",
       "      <th>order_year</th>\n",
       "      <th>item_id</th>\n",
       "      <th>category</th>\n",
       "      <th>subcategory</th>\n",
       "      <th>unit_price</th>\n",
       "      <th>unit_cost</th>\n",
       "      <th>unit_weight</th>\n",
       "      <th>qty</th>\n",
       "      <th>line_number</th>\n",
       "    </tr>\n",
       "  </thead>\n",
       "  <tbody>\n",
       "    <tr>\n",
       "      <th>0</th>\n",
       "      <td>Donald</td>\n",
       "      <td>Harding</td>\n",
       "      <td>Immunologist</td>\n",
       "      <td>793-904-7725x39308</td>\n",
       "      <td>harding.donald.7185@sullivan.com</td>\n",
       "      <td>58515</td>\n",
       "      <td>8953482</td>\n",
       "      <td>2023-04-28</td>\n",
       "      <td>17</td>\n",
       "      <td>2023</td>\n",
       "      <td>EUD29711-63-6U</td>\n",
       "      <td>decor</td>\n",
       "      <td>wall art</td>\n",
       "      <td>1096.80</td>\n",
       "      <td>762.71</td>\n",
       "      <td>7.50</td>\n",
       "      <td>105</td>\n",
       "      <td>1</td>\n",
       "    </tr>\n",
       "    <tr>\n",
       "      <th>1</th>\n",
       "      <td>Tiffany</td>\n",
       "      <td>Myers</td>\n",
       "      <td>Music therapist</td>\n",
       "      <td>201.442.4543x942</td>\n",
       "      <td>myers.t.6537@ferguson-johnson.net</td>\n",
       "      <td>37609</td>\n",
       "      <td>8069089</td>\n",
       "      <td>2023-05-19</td>\n",
       "      <td>20</td>\n",
       "      <td>2023</td>\n",
       "      <td>XDA18116-89-4A</td>\n",
       "      <td>consumables</td>\n",
       "      <td>pens</td>\n",
       "      <td>24.95</td>\n",
       "      <td>15.09</td>\n",
       "      <td>1.49</td>\n",
       "      <td>21</td>\n",
       "      <td>0</td>\n",
       "    </tr>\n",
       "    <tr>\n",
       "      <th>2</th>\n",
       "      <td>Shannon</td>\n",
       "      <td>Watson</td>\n",
       "      <td>Immunologist</td>\n",
       "      <td>687.737.9424x8503</td>\n",
       "      <td>swatson8146@payne.net</td>\n",
       "      <td>57113</td>\n",
       "      <td>1902144</td>\n",
       "      <td>2023-01-29</td>\n",
       "      <td>4</td>\n",
       "      <td>2023</td>\n",
       "      <td>ABE59463-05-7E</td>\n",
       "      <td>software</td>\n",
       "      <td>project management</td>\n",
       "      <td>13.52</td>\n",
       "      <td>7.86</td>\n",
       "      <td>1.68</td>\n",
       "      <td>39</td>\n",
       "      <td>6</td>\n",
       "    </tr>\n",
       "    <tr>\n",
       "      <th>3</th>\n",
       "      <td>Nathan</td>\n",
       "      <td>Baker</td>\n",
       "      <td>Accounting technician</td>\n",
       "      <td>827-788-8123x012</td>\n",
       "      <td>bakernathan@benson.com</td>\n",
       "      <td>46554</td>\n",
       "      <td>9031802</td>\n",
       "      <td>2023-04-25</td>\n",
       "      <td>17</td>\n",
       "      <td>2023</td>\n",
       "      <td>ZMM00836-65-0C</td>\n",
       "      <td>consumables</td>\n",
       "      <td>pens</td>\n",
       "      <td>36.42</td>\n",
       "      <td>24.85</td>\n",
       "      <td>1.23</td>\n",
       "      <td>29</td>\n",
       "      <td>3</td>\n",
       "    </tr>\n",
       "    <tr>\n",
       "      <th>4</th>\n",
       "      <td>Christina</td>\n",
       "      <td>Schwartz</td>\n",
       "      <td>Chiropractor</td>\n",
       "      <td>265-829-3643</td>\n",
       "      <td>christinaschwartz9252@mcconnell.com</td>\n",
       "      <td>92089</td>\n",
       "      <td>1322274</td>\n",
       "      <td>2023-05-28</td>\n",
       "      <td>21</td>\n",
       "      <td>2023</td>\n",
       "      <td>BZX55559-12-3X</td>\n",
       "      <td>consumables</td>\n",
       "      <td>misc</td>\n",
       "      <td>195.10</td>\n",
       "      <td>108.17</td>\n",
       "      <td>46.43</td>\n",
       "      <td>20</td>\n",
       "      <td>1</td>\n",
       "    </tr>\n",
       "  </tbody>\n",
       "</table>\n",
       "</div>"
      ],
      "text/plain": [
       "       first      last                    job               phone  \\\n",
       "0     Donald   Harding           Immunologist  793-904-7725x39308   \n",
       "1    Tiffany     Myers        Music therapist    201.442.4543x942   \n",
       "2    Shannon    Watson           Immunologist   687.737.9424x8503   \n",
       "3     Nathan     Baker  Accounting technician    827-788-8123x012   \n",
       "4  Christina  Schwartz           Chiropractor        265-829-3643   \n",
       "\n",
       "                                 email  client_id  order_id  order_date  \\\n",
       "0     harding.donald.7185@sullivan.com      58515   8953482  2023-04-28   \n",
       "1    myers.t.6537@ferguson-johnson.net      37609   8069089  2023-05-19   \n",
       "2                swatson8146@payne.net      57113   1902144  2023-01-29   \n",
       "3               bakernathan@benson.com      46554   9031802  2023-04-25   \n",
       "4  christinaschwartz9252@mcconnell.com      92089   1322274  2023-05-28   \n",
       "\n",
       "   order_week  order_year         item_id     category         subcategory  \\\n",
       "0          17        2023  EUD29711-63-6U        decor            wall art   \n",
       "1          20        2023  XDA18116-89-4A  consumables                pens   \n",
       "2           4        2023  ABE59463-05-7E     software  project management   \n",
       "3          17        2023  ZMM00836-65-0C  consumables                pens   \n",
       "4          21        2023  BZX55559-12-3X  consumables                misc   \n",
       "\n",
       "   unit_price  unit_cost  unit_weight  qty  line_number  \n",
       "0     1096.80     762.71         7.50  105            1  \n",
       "1       24.95      15.09         1.49   21            0  \n",
       "2       13.52       7.86         1.68   39            6  \n",
       "3       36.42      24.85         1.23   29            3  \n",
       "4      195.10     108.17        46.43   20            1  "
      ]
     },
     "execution_count": 49,
     "metadata": {},
     "output_type": "execute_result"
    }
   ],
   "source": [
    "import pandas as pd\n",
    "\n",
    "df = pd.read_csv('Resources/client_dataset.csv')\n",
    "\n",
    "df.head()"
   ]
  },
  {
   "cell_type": "code",
   "execution_count": 50,
   "id": "71b9bbd2",
   "metadata": {},
   "outputs": [
    {
     "name": "stdout",
     "output_type": "stream",
     "text": [
      "Index(['first', 'last', 'job', 'phone', 'email', 'client_id', 'order_id',\n",
      "       'order_date', 'order_week', 'order_year', 'item_id', 'category',\n",
      "       'subcategory', 'unit_price', 'unit_cost', 'unit_weight', 'qty',\n",
      "       'line_number'],\n",
      "      dtype='object')\n"
     ]
    },
    {
     "data": {
      "text/plain": [
       "Index(['first', 'last', 'job', 'phone', 'email', 'client_id', 'order_id',\n",
       "       'order_date', 'order_week', 'order_year', 'item_id', 'category',\n",
       "       'subcategory', 'unit_price', 'unit_cost', 'unit_weight', 'qty',\n",
       "       'line_number'],\n",
       "      dtype='object')"
      ]
     },
     "execution_count": 50,
     "metadata": {},
     "output_type": "execute_result"
    }
   ],
   "source": [
    "# View the column names in the data\n",
    "column_names = df.columns\n",
    "print(column_names)\n",
    "#Or\n",
    "df.columns"
   ]
  },
  {
   "cell_type": "code",
   "execution_count": 51,
   "id": "bc0f4172",
   "metadata": {},
   "outputs": [
    {
     "name": "stdout",
     "output_type": "stream",
     "text": [
      "          client_id      order_id    order_week    order_year    unit_price  \\\n",
      "count  54639.000000  5.463900e+04  54639.000000  54639.000000  54639.000000   \n",
      "mean   54837.869416  5.470190e+06     11.359139   2022.993064    136.267207   \n",
      "std    25487.438231  2.599807e+06      7.023499      0.082997    183.873135   \n",
      "min    10033.000000  1.000886e+06      1.000000   2022.000000      0.010000   \n",
      "25%    33593.000000  3.196372e+06      6.000000   2023.000000     20.800000   \n",
      "50%    53305.000000  5.496966e+06     11.000000   2023.000000     68.310000   \n",
      "75%    78498.000000  7.733869e+06     17.000000   2023.000000    173.160000   \n",
      "max    99984.000000  9.998480e+06     52.000000   2023.000000   1396.230000   \n",
      "\n",
      "          unit_cost   unit_weight           qty   line_number  \n",
      "count  54639.000000  54639.000000  5.463900e+04  54639.000000  \n",
      "mean      99.446073      5.004116  5.702646e+02      2.979667  \n",
      "std      133.164267      5.326599  1.879552e+04      2.436320  \n",
      "min        0.010000      0.000000  0.000000e+00      0.000000  \n",
      "25%       14.840000      1.450000  3.200000e+01      1.000000  \n",
      "50%       49.890000      3.240000  6.800000e+01      3.000000  \n",
      "75%      125.570000      6.890000  1.700000e+02      5.000000  \n",
      "max      846.270000     46.430000  3.958244e+06      9.000000  \n"
     ]
    }
   ],
   "source": [
    "# Use the describe function to gather some basic statistics\n",
    "basic_stats = df.describe()\n",
    "print(basic_stats)\n"
   ]
  },
  {
   "cell_type": "code",
   "execution_count": 53,
   "id": "b24b53cc",
   "metadata": {},
   "outputs": [
    {
     "name": "stdout",
     "output_type": "stream",
     "text": [
      "first           object\n",
      "last            object\n",
      "job             object\n",
      "phone           object\n",
      "email           object\n",
      "client_id        int64\n",
      "order_id         int64\n",
      "order_date      object\n",
      "order_week       int64\n",
      "order_year       int64\n",
      "item_id         object\n",
      "category        object\n",
      "subcategory     object\n",
      "unit_price     float64\n",
      "unit_cost      float64\n",
      "unit_weight    float64\n",
      "qty              int64\n",
      "line_number      int64\n",
      "dtype: object\n",
      "first          0\n",
      "last           0\n",
      "job            0\n",
      "phone          0\n",
      "email          0\n",
      "client_id      0\n",
      "order_id       0\n",
      "order_date     0\n",
      "order_week     0\n",
      "order_year     0\n",
      "item_id        0\n",
      "category       0\n",
      "subcategory    0\n",
      "unit_price     0\n",
      "unit_cost      0\n",
      "unit_weight    0\n",
      "qty            0\n",
      "line_number    0\n",
      "dtype: int64\n",
      "          client_id      order_id    order_week    order_year    unit_price  \\\n",
      "count  54639.000000  5.463900e+04  54639.000000  54639.000000  54639.000000   \n",
      "mean   54837.869416  5.470190e+06     11.359139   2022.993064    136.267207   \n",
      "std    25487.438231  2.599807e+06      7.023499      0.082997    183.873135   \n",
      "min    10033.000000  1.000886e+06      1.000000   2022.000000      0.010000   \n",
      "25%    33593.000000  3.196372e+06      6.000000   2023.000000     20.800000   \n",
      "50%    53305.000000  5.496966e+06     11.000000   2023.000000     68.310000   \n",
      "75%    78498.000000  7.733869e+06     17.000000   2023.000000    173.160000   \n",
      "max    99984.000000  9.998480e+06     52.000000   2023.000000   1396.230000   \n",
      "\n",
      "          unit_cost   unit_weight           qty   line_number  \n",
      "count  54639.000000  54639.000000  5.463900e+04  54639.000000  \n",
      "mean      99.446073      5.004116  5.702646e+02      2.979667  \n",
      "std      133.164267      5.326599  1.879552e+04      2.436320  \n",
      "min        0.010000      0.000000  0.000000e+00      0.000000  \n",
      "25%       14.840000      1.450000  3.200000e+01      1.000000  \n",
      "50%       49.890000      3.240000  6.800000e+01      3.000000  \n",
      "75%      125.570000      6.890000  1.700000e+02      5.000000  \n",
      "max      846.270000     46.430000  3.958244e+06      9.000000  \n",
      "category\n",
      "consumables    23538\n",
      "furniture      11915\n",
      "software        8400\n",
      "decor           7954\n",
      "electronics     2832\n",
      "Name: count, dtype: int64\n"
     ]
    }
   ],
   "source": [
    "# Use this space to do any additional research\n",
    "# and familiarize yourself with the data.\n",
    "\n",
    "# 1. Take a look at my data getting the first and last 5 row in the dataframe \n",
    "df.head()\n",
    "df.tail()\n",
    "\n",
    "# 2. Display the column names\n",
    "df.columns\n",
    "\n",
    "# 3. Display the datatypes \n",
    "data_types = df.dtypes\n",
    "print(data_types)\n",
    "\n",
    "# 4. Identify missing values. \n",
    "missing_values = df.isnull().sum()\n",
    "print(missing_values)\n",
    "\n",
    "# 5. Display the statistic of the data\n",
    "print(basic_stats)\n",
    "\n",
    "# 6. Display the unique values of a column\n",
    "unique_values = df['category'].value_counts()\n",
    "print(unique_values)"
   ]
  },
  {
   "cell_type": "code",
   "execution_count": 54,
   "id": "551cb358",
   "metadata": {},
   "outputs": [
    {
     "name": "stdout",
     "output_type": "stream",
     "text": [
      "<bound method Series.nlargest of category\n",
      "consumables    23538\n",
      "furniture      11915\n",
      "software        8400\n",
      "decor           7954\n",
      "electronics     2832\n",
      "Name: count, dtype: int64>\n"
     ]
    }
   ],
   "source": [
    "# What three item categories had the most entries?\n",
    "top_categories = df['category'].value_counts().nlargest\n",
    "print(top_categories)\n"
   ]
  },
  {
   "cell_type": "code",
   "execution_count": 56,
   "id": "5f54e2cf",
   "metadata": {},
   "outputs": [
    {
     "name": "stdout",
     "output_type": "stream",
     "text": [
      "category\n",
      "consumables    23538\n",
      "Name: count, dtype: int64\n",
      "subcategory\n",
      "bathroom supplies    6424\n",
      "Name: count, dtype: int64\n",
      "Top Category: consumables\n",
      "Top Subcategories: subcategory\n",
      "bathroom supplies    6424\n",
      "Name: count, dtype: int64\n"
     ]
    }
   ],
   "source": [
    "# For the category with the most entries,\n",
    "top_categories = df['category'].value_counts().nlargest(1)\n",
    "print(top_categories)\n",
    "\n",
    "# which subcategory had the most entries?\n",
    "top_subcategories = df['subcategory'].value_counts().nlargest(1)\n",
    "print(top_subcategories)\n",
    "\n",
    "#For the category with the most entries, which subcategory had the most entries?\n",
    "top_categories = df['category'].value_counts().idxmax()\n",
    "top_categories_df = df[df['category'] == top_categories]\n",
    "top_subcategories = top_categories_df['subcategory'].value_counts().nlargest(1)\n",
    "\n",
    "print(\"Top Category:\", top_categories)\n",
    "print(\"Top Subcategories:\",top_subcategories )\n",
    "\n"
   ]
  },
  {
   "cell_type": "code",
   "execution_count": 62,
   "id": "2db94379",
   "metadata": {},
   "outputs": [
    {
     "name": "stdout",
     "output_type": "stream",
     "text": [
      "Top 5 clients with the most entries: client_id\n",
      "33615    220\n",
      "66037    211\n",
      "46820    209\n",
      "38378    207\n",
      "24741    207\n",
      "Name: count, dtype: int64\n"
     ]
    }
   ],
   "source": [
    "# Which five clients had the most entries in the data?\n",
    "top_clients = df['client_id'].value_counts().nlargest(5)\n",
    "print(\"Top 5 clients with the most entries:\", top_clients)\n"
   ]
  },
  {
   "cell_type": "code",
   "execution_count": 63,
   "id": "a6635601",
   "metadata": {},
   "outputs": [
    {
     "name": "stdout",
     "output_type": "stream",
     "text": [
      "Top five clients IDs with the most entries: [33615, 66037, 46820, 38378, 24741]\n"
     ]
    }
   ],
   "source": [
    "# Store the client ids of those top 5 clients in a list.\n",
    "top_5_clients = df['client_id'].value_counts().nlargest(5)\n",
    "top_5_client_ids = top_5_clients.index.tolist()\n",
    "print(\"Top five clients IDs with the most entries:\", top_5_client_ids)"
   ]
  },
  {
   "cell_type": "code",
   "execution_count": 64,
   "id": "c88b8a3e",
   "metadata": {},
   "outputs": [
    {
     "name": "stdout",
     "output_type": "stream",
     "text": [
      "Top client with the most entries: 33615\n",
      "Total quantity ordered by the top client: 64313\n"
     ]
    }
   ],
   "source": [
    "# How many total units (the qty column) did the\n",
    "# client with the most entries order order?\n",
    "top_client = df['client_id'].value_counts().idxmax()\n",
    "top_client_df = df[df['client_id'] == top_client]\n",
    "total_qty_top_client = top_client_df['qty'].sum()\n",
    "\n",
    "print(\"Top client with the most entries:\", top_client)\n",
    "print(\"Total quantity ordered by the top client:\", total_qty_top_client)\n",
    "\n"
   ]
  },
  {
   "cell_type": "markdown",
   "id": "257fcd7d",
   "metadata": {},
   "source": [
    "## Part 2: Transform the Data\n",
    "Do we know that this client spent the more money than client 66037? If not, how would we find out? Transform the data using the steps below to prepare it for analysis."
   ]
  },
  {
   "cell_type": "code",
   "execution_count": 67,
   "id": "0c25c4a8",
   "metadata": {},
   "outputs": [
    {
     "name": "stdout",
     "output_type": "stream",
     "text": [
      "       line_subtotal  unit_price   qty\n",
      "0          115164.00     1096.80   105\n",
      "1             523.95       24.95    21\n",
      "2             527.28       13.52    39\n",
      "3            1056.18       36.42    29\n",
      "4            3902.00      195.10    20\n",
      "...              ...         ...   ...\n",
      "54634        2743.29       83.13    33\n",
      "54635        9709.73      206.59    47\n",
      "54636       31188.50       65.66   475\n",
      "54637         165.76        1.48   112\n",
      "54638        3103.31        3.01  1031\n",
      "\n",
      "[54639 rows x 3 columns]\n"
     ]
    }
   ],
   "source": [
    "# Create a column that calculates the \n",
    "# subtotal for each line using the unit_price\n",
    "# and the qty\n",
    "\n",
    "df['line_subtotal'] = df['unit_price'] * df['qty'] \n",
    "desired_columns = ['line_subtotal','unit_price','qty']\n",
    "subset_df = df[desired_columns]\n",
    "print(subset_df)"
   ]
  },
  {
   "cell_type": "code",
   "execution_count": 70,
   "id": "ac9dafc8",
   "metadata": {},
   "outputs": [
    {
     "name": "stdout",
     "output_type": "stream",
     "text": [
      "        qty  shipping_price\n",
      "0       105             735\n",
      "1        21             210\n",
      "2        39             390\n",
      "3        29             290\n",
      "4        20             200\n",
      "...     ...             ...\n",
      "54634    33             330\n",
      "54635    47             470\n",
      "54636   475            3325\n",
      "54637   112             784\n",
      "54638  1031            7217\n",
      "\n",
      "[54639 rows x 2 columns]\n"
     ]
    }
   ],
   "source": [
    "# Create a column for shipping price.\n",
    "# Assume a shipping price of $7 per pound\n",
    "# for orders over 50 pounds and $10 per\n",
    "# pound for items 50 pounds or under.\n",
    "def calculate_shipping_price(row):\n",
    "    if row['qty'] > 50:\n",
    "        return 7 * row['qty'] # $7 per lb for orders over 50 lbs.\n",
    "    else:\n",
    "        return 10 * row['qty'] # $10 per lb for orders under 50 lbs. \n",
    "    \n",
    "df['shipping_price'] = df.apply(calculate_shipping_price, axis=1)\n",
    "\n",
    "print(df[['qty', 'shipping_price']])\n"
   ]
  },
  {
   "cell_type": "code",
   "execution_count": 81,
   "id": "77f42c67",
   "metadata": {},
   "outputs": [
    {
     "ename": "SyntaxError",
     "evalue": "unterminated string literal (detected at line 12) (1206768774.py, line 12)",
     "output_type": "error",
     "traceback": [
      "\u001b[1;36m  Cell \u001b[1;32mIn[81], line 12\u001b[1;36m\u001b[0m\n\u001b[1;33m    print(df[['line_subtotal', 'shipping_price','total_price': .format(total_price)']])\u001b[0m\n\u001b[1;37m                                                                                   ^\u001b[0m\n\u001b[1;31mSyntaxError\u001b[0m\u001b[1;31m:\u001b[0m unterminated string literal (detected at line 12)\n"
     ]
    }
   ],
   "source": [
    "# Create a column for the total price\n",
    "# using the subtotal and the shipping price\n",
    "# along with a sales tax of 9.25%\n",
    "def calculate_total_price(row):\n",
    "    line_subtotal = row['line_subtotal'] \n",
    "    shipping_price = row['shipping_price']\n",
    "    sales_tax = (line_subtotal + shipping_price) * 0.0925 # Calculate sales tax (9.25%)\n",
    "    total_price = line_subtotal + shipping_price + sales_tax \n",
    "    return total_price\n",
    "df['total_price'] = df.apply(calculate_total_price, axis=1)\n",
    "\n",
    "print(df[['line_subtotal', 'shipping_price','total_price': .format(total_price)']])\n",
    "\n"
   ]
  },
  {
   "cell_type": "code",
   "execution_count": 72,
   "id": "c82ad275",
   "metadata": {},
   "outputs": [
    {
     "name": "stdout",
     "output_type": "stream",
     "text": [
      "       unit_cost   qty  shipping_price  line_cost\n",
      "0         762.71   105             735   80819.55\n",
      "1          15.09    21             210     526.89\n",
      "2           7.86    39             390     696.54\n",
      "3          24.85    29             290    1010.65\n",
      "4         108.17    20             200    2363.40\n",
      "...          ...   ...             ...        ...\n",
      "54634      51.60    33             330    2032.80\n",
      "54635     175.46    47             470    8716.62\n",
      "54636      57.31   475            3325   30547.25\n",
      "54637       1.22   112             784     920.64\n",
      "54638       1.61  1031            7217    8876.91\n",
      "\n",
      "[54639 rows x 4 columns]\n"
     ]
    }
   ],
   "source": [
    "# Create a column for the cost\n",
    "# of each line using unit cost, qty, and\n",
    "# shipping price (assume the shipping cost\n",
    "# is exactly what is charged to the client).\n",
    "df['line_cost'] = df['unit_cost'] * df['qty'] + df['shipping_price']\n",
    "print(df[['unit_cost', 'qty', 'shipping_price', 'line_cost']])\n",
    "\n"
   ]
  },
  {
   "cell_type": "code",
   "execution_count": 77,
   "id": "e2389018",
   "metadata": {},
   "outputs": [
    {
     "name": "stdout",
     "output_type": "stream",
     "text": [
      "           first       last                      job               phone  \\\n",
      "0         Donald    Harding             Immunologist  793-904-7725x39308   \n",
      "1        Tiffany      Myers          Music therapist    201.442.4543x942   \n",
      "2        Shannon     Watson             Immunologist   687.737.9424x8503   \n",
      "3         Nathan      Baker    Accounting technician    827-788-8123x012   \n",
      "4      Christina   Schwartz             Chiropractor        265-829-3643   \n",
      "...          ...        ...                      ...                 ...   \n",
      "54634     Lauren      Reese           Radio producer  977.877.5272x11382   \n",
      "54635    Derrick      Moore                 Musician        358.661.5483   \n",
      "54636     Monica  Gutierrez         Graphic designer    294.805.9100x339   \n",
      "54637      Wanda    Solomon             Toxicologist       (311)767-4924   \n",
      "54638     Dwayne       Bell  Chief Financial Officer   606-619-7667x9508   \n",
      "\n",
      "                                     email  client_id  order_id  order_date  \\\n",
      "0         harding.donald.7185@sullivan.com      58515   8953482  2023-04-28   \n",
      "1        myers.t.6537@ferguson-johnson.net      37609   8069089  2023-05-19   \n",
      "2                    swatson8146@payne.net      57113   1902144  2023-01-29   \n",
      "3                   bakernathan@benson.com      46554   9031802  2023-04-25   \n",
      "4      christinaschwartz9252@mcconnell.com      92089   1322274  2023-05-28   \n",
      "...                                    ...        ...       ...         ...   \n",
      "54634   late_reese_4081@montoya-chavez.org      29043   9021716  2023-04-26   \n",
      "54635         derrick.moore.2602@pope.info      41908   6290153  2023-02-08   \n",
      "54636            gutierrezm3195@morris.org      35176   8692622  2023-03-05   \n",
      "54637            solomonwanda5962@ross.org      24485   7592730  2023-01-18   \n",
      "54638                     belld@galvan.com      24007   7489403  2023-01-04   \n",
      "\n",
      "       order_week  order_year  ... unit_price unit_cost unit_weight   qty  \\\n",
      "0              17        2023  ...    1096.80    762.71        7.50   105   \n",
      "1              20        2023  ...      24.95     15.09        1.49    21   \n",
      "2               4        2023  ...      13.52      7.86        1.68    39   \n",
      "3              17        2023  ...      36.42     24.85        1.23    29   \n",
      "4              21        2023  ...     195.10    108.17       46.43    20   \n",
      "...           ...         ...  ...        ...       ...         ...   ...   \n",
      "54634          17        2023  ...      83.13     51.60        2.25    33   \n",
      "54635           6        2023  ...     206.59    175.46       11.70    47   \n",
      "54636           9        2023  ...      65.66     57.31        4.16   475   \n",
      "54637           3        2023  ...       1.48      1.22       18.04   112   \n",
      "54638           1        2023  ...       3.01      1.61        2.07  1031   \n",
      "\n",
      "       line_number  line_subtotal  shipping_price    total_price  line_cost  \\\n",
      "0                1      115164.00             735  126619.657500   80819.55   \n",
      "1                0         523.95             210     801.840375     526.89   \n",
      "2                6         527.28             390    1002.128400     696.54   \n",
      "3                3        1056.18             290    1470.701650    1010.65   \n",
      "4                1        3902.00             200    4481.435000    2363.40   \n",
      "...            ...            ...             ...            ...        ...   \n",
      "54634            8        2743.29             330    3357.569325    2032.80   \n",
      "54635            0        9709.73             470   11121.355025    8716.62   \n",
      "54636            6       31188.50            3325   37705.998750   30547.25   \n",
      "54637            0         165.76             784    1037.612800     920.64   \n",
      "54638            5        3103.31            7217   11274.938675    8876.91   \n",
      "\n",
      "         profit  \n",
      "0     -80084.55  \n",
      "1       -316.89  \n",
      "2       -306.54  \n",
      "3       -720.65  \n",
      "4      -2163.40  \n",
      "...         ...  \n",
      "54634  -1702.80  \n",
      "54635  -8246.62  \n",
      "54636 -27222.25  \n",
      "54637   -136.64  \n",
      "54638  -1659.91  \n",
      "\n",
      "[54639 rows x 23 columns]\n"
     ]
    }
   ],
   "source": [
    "# Create a column for the profit of\n",
    "# each line using line cost and line price\n",
    "df['profit'] = df['shipping_price'] - df['line_cost']\n",
    "print(df)"
   ]
  },
  {
   "cell_type": "markdown",
   "id": "ef6f62b1",
   "metadata": {},
   "source": [
    "## Part 3: Confirm your work\n",
    "You have email receipts showing that the total prices for 3 orders. Confirm that your calculations match the receipts. Remember, each order has multiple lines.\n",
    "\n",
    "Order ID 2742071 had a total price of \\$152,811.89\n",
    "\n",
    "Order ID 2173913 had a total price of \\$162,388.71\n",
    "\n",
    "Order ID 6128929 had a total price of \\$923,441.25\n"
   ]
  },
  {
   "cell_type": "code",
   "execution_count": 80,
   "id": "c0e5d68e",
   "metadata": {},
   "outputs": [
    {
     "name": "stdout",
     "output_type": "stream",
     "text": [
      "Total price for Order ID 2742071 does not match the expected value\n",
      "Total price for Order ID 2173913 does not match the expected value\n",
      "Total price for Order ID 6128929 does not match the expected value\n"
     ]
    }
   ],
   "source": [
    "# Check your work using the totals above\n",
    "\n",
    "# Filter the DataFrame for Order ID 2742071\n",
    "order_2742071 = df[df['order_id'] == 2742071]\n",
    "\n",
    "# Check if the total price for Order ID 2742071 matches the expected value\n",
    "expected_total_price = 152811.89\n",
    "confirmed = order_2742071['total_price'].sum() == expected_total_price\n",
    "\n",
    "if confirmed:\n",
    "    print(\"Order ID 2742071 had a total price of $152,811.89\")\n",
    "else:\n",
    "    print(\"Total price for Order ID 2742071 does not match the expected value\")\n",
    "\n",
    "\n",
    "# Filter the DataFrame for Order ID 2173913\n",
    "order_2173913 = df[df['order_id'] == 2173913]\n",
    "\n",
    "# Check if the total price for Order ID 2742071 matches the expected value\n",
    "expected_total_price = 162388.71\n",
    "confirmed = order_2173913['total_price'].sum() == expected_total_price\n",
    "\n",
    "if confirmed:\n",
    "    print(\"Order ID 2173913 had a total price of $162388.71\")\n",
    "else:\n",
    "    print(\"Total price for Order ID 2173913 does not match the expected value\")\n",
    "\n",
    "\n",
    "# Filter the DataFrame for Order ID 6128929\n",
    "order_6128929 = df[df['order_id'] == 6128929]\n",
    "\n",
    "# Check if the total price for Order ID 6128929 matches the expected value\n",
    "expected_total_price = 923441.25\n",
    "confirmed = order_6128929['total_price'].sum() == expected_total_price\n",
    "\n",
    "if confirmed:\n",
    "    print(\"Order ID 6128929 had a total price of $923441.25\")\n",
    "else:\n",
    "    print(\"Total price for Order ID 6128929 does not match the expected value\")\n",
    "\n"
   ]
  },
  {
   "cell_type": "markdown",
   "id": "b94d58ab",
   "metadata": {},
   "source": [
    "## Part 4: Summarize and Analyze\n",
    "Use the new columns with confirmed values to find the following information."
   ]
  },
  {
   "cell_type": "code",
   "execution_count": 16,
   "id": "7c005f34",
   "metadata": {},
   "outputs": [
    {
     "name": "stdout",
     "output_type": "stream",
     "text": [
      "33615: $8377308.52\n",
      "66037: $10259514.79\n",
      "46820: $9743794.36\n",
      "38378: $12906550.87\n",
      "24741: $82268892.02\n"
     ]
    }
   ],
   "source": [
    "# How much did each of the top 5 clients by quantity\n",
    "# spend? Check your work from Part 1 for client ids.\n",
    "\n"
   ]
  },
  {
   "cell_type": "code",
   "execution_count": 17,
   "id": "81b6e4d2",
   "metadata": {},
   "outputs": [
    {
     "data": {
      "text/html": [
       "<div>\n",
       "<style scoped>\n",
       "    .dataframe tbody tr th:only-of-type {\n",
       "        vertical-align: middle;\n",
       "    }\n",
       "\n",
       "    .dataframe tbody tr th {\n",
       "        vertical-align: top;\n",
       "    }\n",
       "\n",
       "    .dataframe thead th {\n",
       "        text-align: right;\n",
       "    }\n",
       "</style>\n",
       "<table border=\"1\" class=\"dataframe\">\n",
       "  <thead>\n",
       "    <tr style=\"text-align: right;\">\n",
       "      <th></th>\n",
       "      <th>client_id</th>\n",
       "      <th>qty</th>\n",
       "      <th>shipping_price</th>\n",
       "      <th>line_price</th>\n",
       "      <th>line_cost</th>\n",
       "      <th>line_profit</th>\n",
       "    </tr>\n",
       "  </thead>\n",
       "  <tbody>\n",
       "    <tr>\n",
       "      <th>4</th>\n",
       "      <td>24741</td>\n",
       "      <td>239862</td>\n",
       "      <td>5126448.37</td>\n",
       "      <td>82268892.02</td>\n",
       "      <td>45688899.71</td>\n",
       "      <td>36579992.31</td>\n",
       "    </tr>\n",
       "    <tr>\n",
       "      <th>3</th>\n",
       "      <td>38378</td>\n",
       "      <td>73667</td>\n",
       "      <td>3429455.40</td>\n",
       "      <td>12906550.87</td>\n",
       "      <td>9634720.98</td>\n",
       "      <td>3271829.89</td>\n",
       "    </tr>\n",
       "    <tr>\n",
       "      <th>1</th>\n",
       "      <td>66037</td>\n",
       "      <td>43018</td>\n",
       "      <td>1395151.85</td>\n",
       "      <td>10259514.79</td>\n",
       "      <td>7004482.98</td>\n",
       "      <td>3255031.81</td>\n",
       "    </tr>\n",
       "    <tr>\n",
       "      <th>2</th>\n",
       "      <td>46820</td>\n",
       "      <td>75768</td>\n",
       "      <td>1601448.84</td>\n",
       "      <td>9743794.36</td>\n",
       "      <td>7007191.64</td>\n",
       "      <td>2736602.72</td>\n",
       "    </tr>\n",
       "    <tr>\n",
       "      <th>0</th>\n",
       "      <td>33615</td>\n",
       "      <td>64313</td>\n",
       "      <td>1828984.89</td>\n",
       "      <td>8377308.52</td>\n",
       "      <td>6175313.91</td>\n",
       "      <td>2201994.61</td>\n",
       "    </tr>\n",
       "  </tbody>\n",
       "</table>\n",
       "</div>"
      ],
      "text/plain": [
       "   client_id     qty  shipping_price   line_price    line_cost  line_profit\n",
       "4      24741  239862      5126448.37  82268892.02  45688899.71  36579992.31\n",
       "3      38378   73667      3429455.40  12906550.87   9634720.98   3271829.89\n",
       "1      66037   43018      1395151.85  10259514.79   7004482.98   3255031.81\n",
       "2      46820   75768      1601448.84   9743794.36   7007191.64   2736602.72\n",
       "0      33615   64313      1828984.89   8377308.52   6175313.91   2201994.61"
      ]
     },
     "execution_count": 17,
     "metadata": {},
     "output_type": "execute_result"
    }
   ],
   "source": [
    "# Create a summary DataFrame showing the totals for the\n",
    "# for the top 5 clients with the following information:\n",
    "# total units purchased, total shipping price,\n",
    "# total revenue, and total profit. Sort by total profit.\n",
    "\n"
   ]
  },
  {
   "cell_type": "code",
   "execution_count": 18,
   "id": "7be02867",
   "metadata": {},
   "outputs": [],
   "source": [
    "# Format the data and rename the columns\n",
    "# to names suitable for presentation.\n",
    "# Currency should be in millions of dollars.\n",
    "\n"
   ]
  },
  {
   "cell_type": "code",
   "execution_count": 19,
   "id": "8ead0986",
   "metadata": {},
   "outputs": [
    {
     "data": {
      "text/html": [
       "<div>\n",
       "<style scoped>\n",
       "    .dataframe tbody tr th:only-of-type {\n",
       "        vertical-align: middle;\n",
       "    }\n",
       "\n",
       "    .dataframe tbody tr th {\n",
       "        vertical-align: top;\n",
       "    }\n",
       "\n",
       "    .dataframe thead th {\n",
       "        text-align: right;\n",
       "    }\n",
       "</style>\n",
       "<table border=\"1\" class=\"dataframe\">\n",
       "  <thead>\n",
       "    <tr style=\"text-align: right;\">\n",
       "      <th></th>\n",
       "      <th>Client ID</th>\n",
       "      <th>Units</th>\n",
       "      <th>Shipping</th>\n",
       "      <th>Total Revenue</th>\n",
       "      <th>Total Cost</th>\n",
       "      <th>Total Profit</th>\n",
       "    </tr>\n",
       "  </thead>\n",
       "  <tbody>\n",
       "    <tr>\n",
       "      <th>4</th>\n",
       "      <td>24741</td>\n",
       "      <td>239862</td>\n",
       "      <td>$5.13M</td>\n",
       "      <td>$82.27M</td>\n",
       "      <td>$45.69M</td>\n",
       "      <td>$36.58M</td>\n",
       "    </tr>\n",
       "    <tr>\n",
       "      <th>3</th>\n",
       "      <td>38378</td>\n",
       "      <td>73667</td>\n",
       "      <td>$3.43M</td>\n",
       "      <td>$12.91M</td>\n",
       "      <td>$9.63M</td>\n",
       "      <td>$3.27M</td>\n",
       "    </tr>\n",
       "    <tr>\n",
       "      <th>1</th>\n",
       "      <td>66037</td>\n",
       "      <td>43018</td>\n",
       "      <td>$1.40M</td>\n",
       "      <td>$10.26M</td>\n",
       "      <td>$7.00M</td>\n",
       "      <td>$3.26M</td>\n",
       "    </tr>\n",
       "    <tr>\n",
       "      <th>2</th>\n",
       "      <td>46820</td>\n",
       "      <td>75768</td>\n",
       "      <td>$1.60M</td>\n",
       "      <td>$9.74M</td>\n",
       "      <td>$7.01M</td>\n",
       "      <td>$2.74M</td>\n",
       "    </tr>\n",
       "    <tr>\n",
       "      <th>0</th>\n",
       "      <td>33615</td>\n",
       "      <td>64313</td>\n",
       "      <td>$1.83M</td>\n",
       "      <td>$8.38M</td>\n",
       "      <td>$6.18M</td>\n",
       "      <td>$2.20M</td>\n",
       "    </tr>\n",
       "  </tbody>\n",
       "</table>\n",
       "</div>"
      ],
      "text/plain": [
       "   Client ID   Units Shipping Total Revenue Total Cost Total Profit\n",
       "4      24741  239862   $5.13M       $82.27M    $45.69M      $36.58M\n",
       "3      38378   73667   $3.43M       $12.91M     $9.63M       $3.27M\n",
       "1      66037   43018   $1.40M       $10.26M     $7.00M       $3.26M\n",
       "2      46820   75768   $1.60M        $9.74M     $7.01M       $2.74M\n",
       "0      33615   64313   $1.83M        $8.38M     $6.18M       $2.20M"
      ]
     },
     "execution_count": 19,
     "metadata": {},
     "output_type": "execute_result"
    }
   ],
   "source": [
    "# Sort the updated data by \"Total Profit\" form highest to lowest\n"
   ]
  },
  {
   "cell_type": "code",
   "execution_count": null,
   "id": "6589d63c",
   "metadata": {},
   "outputs": [],
   "source": []
  }
 ],
 "metadata": {
  "kernelspec": {
   "display_name": "Python 3 (ipykernel)",
   "language": "python",
   "name": "python3"
  },
  "language_info": {
   "codemirror_mode": {
    "name": "ipython",
    "version": 3
   },
   "file_extension": ".py",
   "mimetype": "text/x-python",
   "name": "python",
   "nbconvert_exporter": "python",
   "pygments_lexer": "ipython3",
   "version": "3.11.5"
  }
 },
 "nbformat": 4,
 "nbformat_minor": 5
}
